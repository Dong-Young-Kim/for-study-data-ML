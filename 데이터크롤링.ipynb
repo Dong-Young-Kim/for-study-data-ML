{
  "nbformat": 4,
  "nbformat_minor": 0,
  "metadata": {
    "colab": {
      "provenance": [],
      "authorship_tag": "ABX9TyP/OT0Z5DYwNzLPGaW5yUiJ"
    },
    "kernelspec": {
      "name": "python3",
      "display_name": "Python 3"
    },
    "language_info": {
      "name": "python"
    }
  },
  "cells": [
    {
      "cell_type": "markdown",
      "source": [
        "# 데이터 크롤링"
      ],
      "metadata": {
        "id": "pKqRmrjplHan"
      }
    },
    {
      "cell_type": "markdown",
      "source": [
        "웹 페이지는 기본 적으로 HTML 문서로 구성되어 있다.\n",
        "\n",
        "이외에 javascript, css도 사용되나, 데이터 크롤링에서는 데이터의 내용을 다루는 것으르로 여기서는 HTML 문서를 기본으로 살펴본다.\n",
        "\n",
        "우선 아래와 같은 라이브러리가 필요하다"
      ],
      "metadata": {
        "id": "o765lCJElJ6S"
      }
    },
    {
      "cell_type": "code",
      "execution_count": null,
      "metadata": {
        "id": "YDICxSQAlDg0"
      },
      "outputs": [],
      "source": [
        "from bs4 import BeautifulSoup # 파이썬으로 HTML을 다루기 위한 라이브러리\n",
        "import requests # 요청을 위한 라이브러리\n",
        "import time # 시간을 조절하기 위한 라이브러리"
      ]
    },
    {
      "cell_type": "markdown",
      "source": [
        "크롤링할 웹페이지의 주소를 복사하여 변수에 저장한다.\n",
        "\n",
        "(주의) 항상 메인 화면에서 무언가를 검색한 후 해당 페이지의 URL을 가져오기\n",
        "\n",
        "네이버의 회차별 로또 번호를 제공하는 기능을 통해 로또 정보의 데이터 크롤링을 진행해보자.\n",
        "\n",
        "로또 페이지를 가져온 URL:\n",
        "https://search.naver.com/search.naver?where=nexearch&sm=top_hty&fbm=0&ie=utf8&query=%EB%A1%9C%EB%98%90"
      ],
      "metadata": {
        "id": "5XwxY4Igm6mY"
      }
    },
    {
      "cell_type": "code",
      "source": [
        "url = 'https://search.naver.com/search.naver?where=nexearch&sm=top_hty&fbm=0&ie=utf8&query=%EB%A1%9C%EB%98%90'\n",
        "res = requests.get(url)\n",
        "res"
      ],
      "metadata": {
        "colab": {
          "base_uri": "https://localhost:8080/"
        },
        "id": "fcuTK8zEltCV",
        "outputId": "eeac4223-ef7b-4f5a-a5f5-a00025d36730"
      },
      "execution_count": null,
      "outputs": [
        {
          "output_type": "execute_result",
          "data": {
            "text/plain": [
              "<Response [200]>"
            ]
          },
          "metadata": {},
          "execution_count": 2
        }
      ]
    },
    {
      "cell_type": "markdown",
      "source": [
        "웹페이지를 requests를 통해 가져왔다. 'Respense [200]'이 출력되면 정상적으로 작동한 것"
      ],
      "metadata": {
        "id": "XtOaxlAvnqGO"
      }
    },
    {
      "cell_type": "code",
      "source": [
        "res.text[0:3000] # 앞에서 3000자만 출력하였다."
      ],
      "metadata": {
        "colab": {
          "base_uri": "https://localhost:8080/",
          "height": 140
        },
        "id": "IiAE1mHinSk6",
        "outputId": "789dcdf0-5855-457f-937f-03224f86a20b"
      },
      "execution_count": null,
      "outputs": [
        {
          "output_type": "execute_result",
          "data": {
            "text/plain": [
              "'<!doctype html> <html lang=\"ko\"><head> <meta charset=\"utf-8\"> <meta name=\"referrer\" content=\"always\">  <meta name=\"format-detection\" content=\"telephone=no,address=no,email=no\"> <meta name=\"viewport\" content=\"width=device-width,initial-scale=1.0,maximum-scale=2.0\"> <meta property=\"og:title\" content=\"로또 : 네이버 통합검색\"/> <meta property=\"og:image\" content=\"https://ssl.pstatic.net/sstatic/search/common/og_v3.png\"> <meta property=\"og:description\" content=\"\\'로또\\'의 네이버 통합검색 결과입니다.\"> <meta name=\"description\" lang=\"ko\" content=\"\\'로또\\'의 네이버 통합검색 결과입니다.\"> <title>로또 : 네이버 통합검색</title> <link rel=\"shortcut icon\" href=\"https://ssl.pstatic.net/sstatic/search/favicon/favicon_191118_pc.ico\">  <link rel=\"search\" type=\"application/opensearchdescription+xml\" href=\"https://ssl.pstatic.net/sstatic/search/opensearch-description.https.xml\" title=\"Naver\" /><script> if (top.frames.length!=0 || window!=top) window.open(location, \"_top\"); </script><link rel=\"stylesheet\" type=\"text/css\" href=\"https://ssl.pstatic.net/sstatic/search/pc/css/search1_230727.css\"> <link rel=\"stylesheet\" type=\"text/css\" href=\"https://ssl.pstatic.net/sstatic/search/pc/css/search2_230727.css\"> <link rel=\"stylesheet\" type=\"text/css\" href=\"https://ssl.pstatic.net/sstatic/search/pc/css/sp_autocomplete_220526.css\"><script> naver = window.naver || {}; naver.search = naver.search || {}; naver.search.abt_param = \"\"; </script><script> naver = window.naver || {}; naver.search = naver.search || {}; naver.search.error = (function () { var errorList = Array() ; return { add : function (s) { errorList.push(s) ; }, clear : function () { delete errorList ; }, get : function (s) { return errorList ; }, getString : function (d) { if (typeof d === \\'undefined\\') d = \\'|\\' ; return errorList.join(d) ; } } })(); function nx_add_event_handler (event, func) { $Fn(func).attach(document, event) ; } function bt(id, after) { document.getElementById(id).src = after; } function document_write (s) { document.write(s) ; } </script><script> var _nx_js_load = (function () { var scrs = {} ; return function (script, callback) { scrs[script] = {} ; scrs[script].domscript = document.createElement(\\'script\\'); scrs[script].domscript.src = script ; if (callback) scrs[script].callback = (callback instanceof Array) ? callback : [callback]; scrs[script].domscript.onloadDone = false; scrs[script].domscript.onload = function() { scrs[script].domscript.onloadDone = true; if (scrs[script].callback) { for (var i = 0; i < scrs[script].callback.length; i++) { scrs[script].callback[i]() ; } } scrs[script].domscript.onload = scrs[script].domscript.onreadystatechange = null; } ; scrs[script].domscript.onreadystatechange = function() { if ( (\"loaded\" === scrs[script].domscript.readyState || \"complete\" === scrs[script].domscript.readyState) && !scrs[script].domscript.onloadDone ) { scrs[script].domscript.onload(); } } ; document.getElementsByTagName(\\'head\\')[0].appendChild(scrs[script].domscript); }; })() ; var nx_js_defer_load = (function() { var info = {} ; return f'"
            ],
            "application/vnd.google.colaboratory.intrinsic+json": {
              "type": "string"
            }
          },
          "metadata": {},
          "execution_count": 3
        }
      ]
    },
    {
      "cell_type": "markdown",
      "source": [
        "위와 같이 text를 불려오면 웹 페이지의 html을 가져온다. 하지만 출력결과를 잘 보면 진짜 html 문서가 아닌 양쪽에 '가 있는 text 문서이다. 이를 진짜 html 문서로 변환해보자"
      ],
      "metadata": {
        "id": "K3C_Jsv2oWqU"
      }
    },
    {
      "cell_type": "code",
      "source": [
        "html = BeautifulSoup(res.text)\n",
        "# html # html을 출력해 보면 문자열이 아닌 html 형식대로 출력된다"
      ],
      "metadata": {
        "id": "PCHJ3FrioAxc"
      },
      "execution_count": null,
      "outputs": []
    },
    {
      "cell_type": "markdown",
      "source": [
        "## 원하는 정보 찾기"
      ],
      "metadata": {
        "id": "lkYcFyp0NZIX"
      }
    },
    {
      "cell_type": "markdown",
      "source": [
        "### 로또 회차 정보 찾기"
      ],
      "metadata": {
        "id": "9kIu4JEjNeOj"
      }
    },
    {
      "cell_type": "markdown",
      "source": [
        "웹 페이지에서 로또 회차가 나와았는 부분에서 우클릭 후 '검사'를 클릭한다.\n",
        "페이지 소스에서 로또 회차 정보가 a tag 안에 들어있는 것을 확인한다.\n",
        "\n",
        "``` html\n",
        "<a onclick=\"return goOtherCR(this,&quot;a=nco_x5e*2&amp;r=1&amp;i=&quot;+urlencode(&quot;0011AD9E_000001E7C267&quot;)+&quot;&amp;u=&quot;+urlencode(this.href));\" class=\"text _select_trigger _text\" href=\"\" aria-expanded=\"false\">1078회차 (2023.07.29.)</a>\n",
        "```\n",
        "\n",
        "a 라는 tag 만으로 원하는 위치를 찾기에는 페이지의 a 태그가 너무 많다."
      ],
      "metadata": {
        "id": "RENZiq-VDbn7"
      }
    },
    {
      "cell_type": "code",
      "source": [
        "current = html.find('a')\n",
        "current"
      ],
      "metadata": {
        "id": "N-Laqu4-o_vW",
        "colab": {
          "base_uri": "https://localhost:8080/"
        },
        "outputId": "e5232850-1ccc-44dd-e227-a85b4ac943cf"
      },
      "execution_count": 6,
      "outputs": [
        {
          "output_type": "execute_result",
          "data": {
            "text/plain": [
              "<a href=\"#lnb\"><span>메뉴 영역으로 바로가기</span></a>"
            ]
          },
          "metadata": {},
          "execution_count": 6
        }
      ]
    },
    {
      "cell_type": "markdown",
      "source": [
        "위와 같이 원하는 위치의 값이 아니다.\n",
        "\n",
        "좀 더 구체적으로 찾기 위해서 class 이름을 알려주자"
      ],
      "metadata": {
        "id": "pPs4_57FGfyA"
      }
    },
    {
      "cell_type": "code",
      "source": [
        "current = html.find('a', class_=\"text _select_trigger _text\")\n",
        "current"
      ],
      "metadata": {
        "colab": {
          "base_uri": "https://localhost:8080/"
        },
        "id": "qG9e3NaxGcWu",
        "outputId": "f643b0ed-33dc-474c-dbe6-0eb4efc3f46b"
      },
      "execution_count": 16,
      "outputs": [
        {
          "output_type": "execute_result",
          "data": {
            "text/plain": [
              "<a aria-expanded=\"false\" class=\"text _select_trigger _text\" href=\"\" onclick='return goOtherCR(this,\"a=nco_x5e*2&amp;r=1&amp;i=\"+urlencode(\"0011AD9E_000001E7C267\")+\"&amp;u=\"+urlencode(this.href));'>1078회차 (2023.07.29.)</a>"
            ]
          },
          "metadata": {},
          "execution_count": 16
        }
      ]
    },
    {
      "cell_type": "markdown",
      "source": [
        "class에 _를 붙여 위와 같이 검색하면 회차 정보가 담긴 원하는 위치의 tag를 검색이 가능하다.\n",
        "\n",
        "find() 함수를 사용하여 찾은 결과도 html이기 때문에 tag 안에 tag를 찾는다면 find 함수를 연쇄적으로 사용하여 검색이 가능하다.\n",
        "\n",
        "```\n",
        "current = html.find(---).find(---)\n",
        "```"
      ],
      "metadata": {
        "id": "TabF8WYkHLr3"
      }
    },
    {
      "cell_type": "markdown",
      "source": [
        "찾은 current는 tag와 text로 이루어져 있다. 원하는 정보는 text 정보이므로 text만 추출해보자"
      ],
      "metadata": {
        "id": "Guv_admlJDGp"
      }
    },
    {
      "cell_type": "code",
      "source": [
        "current.text"
      ],
      "metadata": {
        "colab": {
          "base_uri": "https://localhost:8080/",
          "height": 36
        },
        "id": "6GNdC5CoHBYW",
        "outputId": "39be519e-2b48-46fc-9369-1c46ed2e237e"
      },
      "execution_count": 9,
      "outputs": [
        {
          "output_type": "execute_result",
          "data": {
            "text/plain": [
              "'1078회차 (2023.07.29.)'"
            ],
            "application/vnd.google.colaboratory.intrinsic+json": {
              "type": "string"
            }
          },
          "metadata": {},
          "execution_count": 9
        }
      ]
    },
    {
      "cell_type": "markdown",
      "source": [
        "text를 이용해 추출한 결과는 더이상 html이 아니라 문자열이다. 문자열 함수를 이용하여 회차 정보 중 숫자만 추출할 수 있다."
      ],
      "metadata": {
        "id": "JJMrdUQWJlNZ"
      }
    },
    {
      "cell_type": "code",
      "source": [
        "current = int(current.text.split(' ')[0].replace('회차',''))\n",
        "current"
      ],
      "metadata": {
        "colab": {
          "base_uri": "https://localhost:8080/"
        },
        "id": "QGuSJp_IJPTD",
        "outputId": "60409936-cf1e-4444-b727-bb39b79317c8"
      },
      "execution_count": 17,
      "outputs": [
        {
          "output_type": "execute_result",
          "data": {
            "text/plain": [
              "1078"
            ]
          },
          "metadata": {},
          "execution_count": 17
        }
      ]
    },
    {
      "cell_type": "markdown",
      "source": [
        "- 공백을 기준으로 문자열을 나눈 후\n",
        "- 만들어진 list에서 앞부분을 추출\n",
        "- '회차' 문자를 replace 함수를 제거한다.\n",
        "- 정수형으로 변환한다."
      ],
      "metadata": {
        "id": "yiKlQTXpKbvN"
      }
    },
    {
      "cell_type": "markdown",
      "source": [
        "### 로또 번호 찾기"
      ],
      "metadata": {
        "id": "2jiuKYfRNg1H"
      }
    },
    {
      "cell_type": "code",
      "source": [
        "numbers = html.find('div',class_=\"win_ball\").text.split()\n",
        "numbers"
      ],
      "metadata": {
        "colab": {
          "base_uri": "https://localhost:8080/"
        },
        "id": "rce5LrfeKR0s",
        "outputId": "eb5b12a0-8aaf-49ce-b695-48e5267c1a04"
      },
      "execution_count": 24,
      "outputs": [
        {
          "output_type": "execute_result",
          "data": {
            "text/plain": [
              "['6', '10', '11', '14', '36', '38', '43']"
            ]
          },
          "metadata": {},
          "execution_count": 24
        }
      ]
    },
    {
      "cell_type": "markdown",
      "source": [
        "리스트 안에 문자열이 담겨있는 형태로 저장되어 있으므로 각 요소를 map() 함수를 이용하여 정수형으로 변환하자"
      ],
      "metadata": {
        "id": "AhzyD2lhPWjH"
      }
    },
    {
      "cell_type": "code",
      "source": [
        "numbers = list(map(int, numbers))\n",
        "numbers"
      ],
      "metadata": {
        "colab": {
          "base_uri": "https://localhost:8080/"
        },
        "id": "bEqjb_yjOKuW",
        "outputId": "9c8c7a56-c26f-4c0a-daa9-4f73f01a6cc5"
      },
      "execution_count": 28,
      "outputs": [
        {
          "output_type": "execute_result",
          "data": {
            "text/plain": [
              "[6, 10, 11, 14, 36, 38, 43]"
            ]
          },
          "metadata": {},
          "execution_count": 28
        }
      ]
    },
    {
      "cell_type": "markdown",
      "source": [
        "map 함수를 통해 각 변수를 int 형으로 변환하고, 이 값들을 다시 list로 변환한다."
      ],
      "metadata": {
        "id": "nlFv2sU1PuDW"
      }
    },
    {
      "cell_type": "markdown",
      "source": [
        "### 모든 회차의 정보 저장하기"
      ],
      "metadata": {
        "id": "vECZvCWnQSN_"
      }
    },
    {
      "cell_type": "code",
      "source": [],
      "metadata": {
        "id": "Iiyv7o2iPl8P"
      },
      "execution_count": null,
      "outputs": []
    }
  ]
}