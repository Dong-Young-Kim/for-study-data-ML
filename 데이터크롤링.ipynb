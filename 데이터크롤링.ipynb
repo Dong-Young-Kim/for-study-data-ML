{
  "nbformat": 4,
  "nbformat_minor": 0,
  "metadata": {
    "colab": {
      "provenance": [],
      "authorship_tag": "ABX9TyPdH1PSgYwyV1Gf46o81Lk1"
    },
    "kernelspec": {
      "name": "python3",
      "display_name": "Python 3"
    },
    "language_info": {
      "name": "python"
    }
  },
  "cells": [
    {
      "cell_type": "markdown",
      "source": [
        "# 데이터 크롤링"
      ],
      "metadata": {
        "id": "pKqRmrjplHan"
      }
    },
    {
      "cell_type": "markdown",
      "source": [
        "웹 페이지는 기본 적으로 HTML 문서로 구성되어 있다.\n",
        "\n",
        "이외에 javascript, css도 사용되나, 데이터 크롤링에서는 데이터의 내용을 다루는 것으르로 여기서는 HTML 문서를 기본으로 살펴본다.\n",
        "\n",
        "우선 아래와 같은 라이브러리가 필요하다"
      ],
      "metadata": {
        "id": "o765lCJElJ6S"
      }
    },
    {
      "cell_type": "code",
      "execution_count": 7,
      "metadata": {
        "id": "YDICxSQAlDg0"
      },
      "outputs": [],
      "source": [
        "from bs4 import BeautifulSoup # 파이썬으로 HTML을 다루기 위한 라이브러리\n",
        "import requests # 요청을 위한 라이브러리\n",
        "import time # 시간을 조절하기 위한 라이브러리\n",
        "import pandas as pd"
      ]
    },
    {
      "cell_type": "markdown",
      "source": [
        "크롤링할 웹페이지의 주소를 복사하여 변수에 저장한다.\n",
        "\n",
        "(주의) 항상 메인 화면에서 무언가를 검색한 후 해당 페이지의 URL을 가져오기\n",
        "\n",
        "네이버의 회차별 로또 번호를 제공하는 기능을 통해 로또 정보의 데이터 크롤링을 진행해보자.\n",
        "\n",
        "로또 페이지를 가져온 URL:\n",
        "https://search.naver.com/search.naver?where=nexearch&sm=top_hty&fbm=0&ie=utf8&query=%EB%A1%9C%EB%98%90"
      ],
      "metadata": {
        "id": "5XwxY4Igm6mY"
      }
    },
    {
      "cell_type": "code",
      "source": [
        "url = 'https://search.naver.com/search.naver?where=nexearch&sm=top_hty&fbm=0&ie=utf8&query=%EB%A1%9C%EB%98%90'\n",
        "res = requests.get(url)\n",
        "res"
      ],
      "metadata": {
        "colab": {
          "base_uri": "https://localhost:8080/"
        },
        "id": "fcuTK8zEltCV",
        "outputId": "9e6069f2-f488-45ef-cbf7-60f5f912b6ed"
      },
      "execution_count": null,
      "outputs": [
        {
          "output_type": "execute_result",
          "data": {
            "text/plain": [
              "<Response [200]>"
            ]
          },
          "metadata": {},
          "execution_count": 2
        }
      ]
    },
    {
      "cell_type": "markdown",
      "source": [
        "웹페이지를 requests를 통해 가져왔다. 'Respense [200]'이 출력되면 정상적으로 작동한 것"
      ],
      "metadata": {
        "id": "XtOaxlAvnqGO"
      }
    },
    {
      "cell_type": "code",
      "source": [
        "res.text[0:3000] # 앞에서 3000자만 출력하였다."
      ],
      "metadata": {
        "colab": {
          "base_uri": "https://localhost:8080/",
          "height": 140
        },
        "id": "IiAE1mHinSk6",
        "outputId": "789dcdf0-5855-457f-937f-03224f86a20b"
      },
      "execution_count": null,
      "outputs": [
        {
          "output_type": "execute_result",
          "data": {
            "text/plain": [
              "'<!doctype html> <html lang=\"ko\"><head> <meta charset=\"utf-8\"> <meta name=\"referrer\" content=\"always\">  <meta name=\"format-detection\" content=\"telephone=no,address=no,email=no\"> <meta name=\"viewport\" content=\"width=device-width,initial-scale=1.0,maximum-scale=2.0\"> <meta property=\"og:title\" content=\"로또 : 네이버 통합검색\"/> <meta property=\"og:image\" content=\"https://ssl.pstatic.net/sstatic/search/common/og_v3.png\"> <meta property=\"og:description\" content=\"\\'로또\\'의 네이버 통합검색 결과입니다.\"> <meta name=\"description\" lang=\"ko\" content=\"\\'로또\\'의 네이버 통합검색 결과입니다.\"> <title>로또 : 네이버 통합검색</title> <link rel=\"shortcut icon\" href=\"https://ssl.pstatic.net/sstatic/search/favicon/favicon_191118_pc.ico\">  <link rel=\"search\" type=\"application/opensearchdescription+xml\" href=\"https://ssl.pstatic.net/sstatic/search/opensearch-description.https.xml\" title=\"Naver\" /><script> if (top.frames.length!=0 || window!=top) window.open(location, \"_top\"); </script><link rel=\"stylesheet\" type=\"text/css\" href=\"https://ssl.pstatic.net/sstatic/search/pc/css/search1_230727.css\"> <link rel=\"stylesheet\" type=\"text/css\" href=\"https://ssl.pstatic.net/sstatic/search/pc/css/search2_230727.css\"> <link rel=\"stylesheet\" type=\"text/css\" href=\"https://ssl.pstatic.net/sstatic/search/pc/css/sp_autocomplete_220526.css\"><script> naver = window.naver || {}; naver.search = naver.search || {}; naver.search.abt_param = \"\"; </script><script> naver = window.naver || {}; naver.search = naver.search || {}; naver.search.error = (function () { var errorList = Array() ; return { add : function (s) { errorList.push(s) ; }, clear : function () { delete errorList ; }, get : function (s) { return errorList ; }, getString : function (d) { if (typeof d === \\'undefined\\') d = \\'|\\' ; return errorList.join(d) ; } } })(); function nx_add_event_handler (event, func) { $Fn(func).attach(document, event) ; } function bt(id, after) { document.getElementById(id).src = after; } function document_write (s) { document.write(s) ; } </script><script> var _nx_js_load = (function () { var scrs = {} ; return function (script, callback) { scrs[script] = {} ; scrs[script].domscript = document.createElement(\\'script\\'); scrs[script].domscript.src = script ; if (callback) scrs[script].callback = (callback instanceof Array) ? callback : [callback]; scrs[script].domscript.onloadDone = false; scrs[script].domscript.onload = function() { scrs[script].domscript.onloadDone = true; if (scrs[script].callback) { for (var i = 0; i < scrs[script].callback.length; i++) { scrs[script].callback[i]() ; } } scrs[script].domscript.onload = scrs[script].domscript.onreadystatechange = null; } ; scrs[script].domscript.onreadystatechange = function() { if ( (\"loaded\" === scrs[script].domscript.readyState || \"complete\" === scrs[script].domscript.readyState) && !scrs[script].domscript.onloadDone ) { scrs[script].domscript.onload(); } } ; document.getElementsByTagName(\\'head\\')[0].appendChild(scrs[script].domscript); }; })() ; var nx_js_defer_load = (function() { var info = {} ; return f'"
            ],
            "application/vnd.google.colaboratory.intrinsic+json": {
              "type": "string"
            }
          },
          "metadata": {},
          "execution_count": 3
        }
      ]
    },
    {
      "cell_type": "markdown",
      "source": [
        "위와 같이 text를 불려오면 웹 페이지의 html을 가져온다. 하지만 출력결과를 잘 보면 진짜 html 문서가 아닌 양쪽에 '가 있는 text 문서이다. 이를 진짜 html 문서로 변환해보자"
      ],
      "metadata": {
        "id": "K3C_Jsv2oWqU"
      }
    },
    {
      "cell_type": "code",
      "source": [
        "html = BeautifulSoup(res.text)\n",
        "# html # html을 출력해 보면 문자열이 아닌 html 형식대로 출력된다"
      ],
      "metadata": {
        "id": "PCHJ3FrioAxc"
      },
      "execution_count": null,
      "outputs": []
    },
    {
      "cell_type": "markdown",
      "source": [
        "## 원하는 정보 찾기"
      ],
      "metadata": {
        "id": "lkYcFyp0NZIX"
      }
    },
    {
      "cell_type": "markdown",
      "source": [
        "### 로또 회차 정보 찾기"
      ],
      "metadata": {
        "id": "9kIu4JEjNeOj"
      }
    },
    {
      "cell_type": "markdown",
      "source": [
        "웹 페이지에서 로또 회차가 나와았는 부분에서 우클릭 후 '검사'를 클릭한다.\n",
        "페이지 소스에서 로또 회차 정보가 a tag 안에 들어있는 것을 확인한다.\n",
        "\n",
        "``` html\n",
        "<a onclick=\"return goOtherCR(this,&quot;a=nco_x5e*2&amp;r=1&amp;i=&quot;+urlencode(&quot;0011AD9E_000001E7C267&quot;)+&quot;&amp;u=&quot;+urlencode(this.href));\" class=\"text _select_trigger _text\" href=\"\" aria-expanded=\"false\">1078회차 (2023.07.29.)</a>\n",
        "```\n",
        "\n",
        "a 라는 tag 만으로 원하는 위치를 찾기에는 페이지의 a 태그가 너무 많다."
      ],
      "metadata": {
        "id": "RENZiq-VDbn7"
      }
    },
    {
      "cell_type": "code",
      "source": [
        "current = html.find('a')\n",
        "current"
      ],
      "metadata": {
        "id": "N-Laqu4-o_vW",
        "colab": {
          "base_uri": "https://localhost:8080/"
        },
        "outputId": "aa58dba0-b1b8-47bd-f596-ca5ffe8ddbeb"
      },
      "execution_count": null,
      "outputs": [
        {
          "output_type": "execute_result",
          "data": {
            "text/plain": [
              "<a href=\"#lnb\"><span>메뉴 영역으로 바로가기</span></a>"
            ]
          },
          "metadata": {},
          "execution_count": 4
        }
      ]
    },
    {
      "cell_type": "markdown",
      "source": [
        "위와 같이 원하는 위치의 값이 아니다.\n",
        "\n",
        "좀 더 구체적으로 찾기 위해서 class 이름을 알려주자"
      ],
      "metadata": {
        "id": "pPs4_57FGfyA"
      }
    },
    {
      "cell_type": "code",
      "source": [
        "current = html.find('a', class_=\"text _select_trigger _text\")\n",
        "current"
      ],
      "metadata": {
        "colab": {
          "base_uri": "https://localhost:8080/"
        },
        "id": "qG9e3NaxGcWu",
        "outputId": "c671c031-375a-4eaa-b04a-03fdaec7f068"
      },
      "execution_count": null,
      "outputs": [
        {
          "output_type": "execute_result",
          "data": {
            "text/plain": [
              "<a aria-expanded=\"false\" class=\"text _select_trigger _text\" href=\"\" onclick='return goOtherCR(this,\"a=nco_x5e*2&amp;r=1&amp;i=\"+urlencode(\"0011AD9E_000001E7C267\")+\"&amp;u=\"+urlencode(this.href));'>1078회차 (2023.07.29.)</a>"
            ]
          },
          "metadata": {},
          "execution_count": 5
        }
      ]
    },
    {
      "cell_type": "markdown",
      "source": [
        "class에 _를 붙여 위와 같이 검색하면 회차 정보가 담긴 원하는 위치의 tag를 검색이 가능하다.\n",
        "\n",
        "find() 함수를 사용하여 찾은 결과도 html이기 때문에 tag 안에 tag를 찾는다면 find 함수를 연쇄적으로 사용하여 검색이 가능하다.\n",
        "\n",
        "```\n",
        "current = html.find(---).find(---)\n",
        "```"
      ],
      "metadata": {
        "id": "TabF8WYkHLr3"
      }
    },
    {
      "cell_type": "markdown",
      "source": [
        "찾은 current는 tag와 text로 이루어져 있다. 원하는 정보는 text 정보이므로 text만 추출해보자"
      ],
      "metadata": {
        "id": "Guv_admlJDGp"
      }
    },
    {
      "cell_type": "code",
      "source": [
        "current.text"
      ],
      "metadata": {
        "colab": {
          "base_uri": "https://localhost:8080/",
          "height": 36
        },
        "id": "6GNdC5CoHBYW",
        "outputId": "365e179d-67ff-45eb-c335-5bc46bad5c9b"
      },
      "execution_count": null,
      "outputs": [
        {
          "output_type": "execute_result",
          "data": {
            "text/plain": [
              "'1078회차 (2023.07.29.)'"
            ],
            "application/vnd.google.colaboratory.intrinsic+json": {
              "type": "string"
            }
          },
          "metadata": {},
          "execution_count": 6
        }
      ]
    },
    {
      "cell_type": "markdown",
      "source": [
        "text를 이용해 추출한 결과는 더이상 html이 아니라 문자열이다. 문자열 함수를 이용하여 회차 정보 중 숫자만 추출할 수 있다."
      ],
      "metadata": {
        "id": "JJMrdUQWJlNZ"
      }
    },
    {
      "cell_type": "code",
      "source": [
        "current = int(current.text.split(' ')[0].replace('회차',''))\n",
        "current"
      ],
      "metadata": {
        "colab": {
          "base_uri": "https://localhost:8080/"
        },
        "id": "QGuSJp_IJPTD",
        "outputId": "d2e79a5d-7073-4231-b602-12e7a10c57e2"
      },
      "execution_count": null,
      "outputs": [
        {
          "output_type": "execute_result",
          "data": {
            "text/plain": [
              "1078"
            ]
          },
          "metadata": {},
          "execution_count": 7
        }
      ]
    },
    {
      "cell_type": "markdown",
      "source": [
        "- 공백을 기준으로 문자열을 나눈 후\n",
        "- 만들어진 list에서 앞부분을 추출\n",
        "- '회차' 문자를 replace 함수를 제거한다.\n",
        "- 정수형으로 변환한다."
      ],
      "metadata": {
        "id": "yiKlQTXpKbvN"
      }
    },
    {
      "cell_type": "markdown",
      "source": [
        "### 로또 번호 찾기"
      ],
      "metadata": {
        "id": "2jiuKYfRNg1H"
      }
    },
    {
      "cell_type": "code",
      "source": [
        "numbers = html.find('div',class_=\"win_ball\").text.split()\n",
        "numbers"
      ],
      "metadata": {
        "colab": {
          "base_uri": "https://localhost:8080/"
        },
        "id": "rce5LrfeKR0s",
        "outputId": "6f7bcd72-3f4d-4357-b6a8-0c8d56f45f46"
      },
      "execution_count": null,
      "outputs": [
        {
          "output_type": "execute_result",
          "data": {
            "text/plain": [
              "['6', '10', '11', '14', '36', '38', '43']"
            ]
          },
          "metadata": {},
          "execution_count": 8
        }
      ]
    },
    {
      "cell_type": "markdown",
      "source": [
        "리스트 안에 문자열이 담겨있는 형태로 저장되어 있으므로 각 요소를 map() 함수를 이용하여 정수형으로 변환하자"
      ],
      "metadata": {
        "id": "AhzyD2lhPWjH"
      }
    },
    {
      "cell_type": "code",
      "source": [
        "numbers = list(map(int, numbers))\n",
        "numbers"
      ],
      "metadata": {
        "colab": {
          "base_uri": "https://localhost:8080/"
        },
        "id": "bEqjb_yjOKuW",
        "outputId": "6b8de6a1-42ad-48a1-d98c-67e54d86e9d0"
      },
      "execution_count": null,
      "outputs": [
        {
          "output_type": "execute_result",
          "data": {
            "text/plain": [
              "[6, 10, 11, 14, 36, 38, 43]"
            ]
          },
          "metadata": {},
          "execution_count": 9
        }
      ]
    },
    {
      "cell_type": "markdown",
      "source": [
        "map 함수를 통해 각 변수를 int 형으로 변환하고, 이 값들을 다시 list로 변환한다."
      ],
      "metadata": {
        "id": "nlFv2sU1PuDW"
      }
    },
    {
      "cell_type": "markdown",
      "source": [
        "### 모든 회차의 정보 저장하기"
      ],
      "metadata": {
        "id": "vECZvCWnQSN_"
      }
    },
    {
      "cell_type": "markdown",
      "source": [
        "\"https://search.naver.com/search.naver?where=nexearch&sm=top_hty&fbm=0&ie=utf8&query=1077%ED%9A%8C%EB%A1%9C%EB%98%90\"\n",
        "\n",
        "위 url은 '1077회로또'를 검색한 결과이다.\n",
        "\n",
        "여기서 1077 부분이 회차 정보를 담당하므로 이를 format 함수를 사용하여, 다른 회차로 대치 하면 모든 회차의 로또 정보를 얻을 수 있다.\n",
        "\n",
        "(모든 회차정보를 얻는데는 시간이 많이 소요되므로 100회까지만 데이터를 획득해보자)"
      ],
      "metadata": {
        "id": "MuL1Ko2x6O14"
      }
    },
    {
      "cell_type": "code",
      "source": [
        "total = []\n",
        "\n",
        "for n in range(1, 101): # 1회차 부터 100회차까지\n",
        "# for n in range(1, current + 1): # 1회차 부터 현재 회차까지\n",
        "  url = requests.get(f\"https://search.naver.com/search.naver?where=nexearch&sm=top_hty&fbm=0&ie=utf8&query={n}%ED%9A%8C%EB%A1%9C%EB%98%90\") # format 함수를 적용한다.\n",
        "  if url.status_code != 200:\n",
        "    print('get error... (code = {})'.format(url.status_code))\n",
        "    continue\n",
        "\n",
        "  html = BeautifulSoup(url.text)\n",
        "\n",
        "  numbers = html.find('div',class_=\"win_ball\").text.split()\n",
        "  numbers = list(map(int, numbers))\n",
        "\n",
        "  total.append(numbers)\n",
        "\n",
        "  print('{}회 로또 데이터 저장중... '.format(n), numbers)\n",
        "\n",
        "  time.sleep(0.3) # 트래픽 과부하 방지"
      ],
      "metadata": {
        "colab": {
          "base_uri": "https://localhost:8080/"
        },
        "id": "Iiyv7o2iPl8P",
        "outputId": "027af804-4f59-4437-b263-2e0caa7a97a6"
      },
      "execution_count": 3,
      "outputs": [
        {
          "output_type": "stream",
          "name": "stdout",
          "text": [
            "1회 로또 데이터 저장중...  [10, 23, 29, 33, 37, 40, 16]\n",
            "2회 로또 데이터 저장중...  [9, 13, 21, 25, 32, 42, 2]\n",
            "3회 로또 데이터 저장중...  [11, 16, 19, 21, 27, 31, 30]\n",
            "4회 로또 데이터 저장중...  [14, 27, 30, 31, 40, 42, 2]\n",
            "5회 로또 데이터 저장중...  [16, 24, 29, 40, 41, 42, 3]\n",
            "6회 로또 데이터 저장중...  [14, 15, 26, 27, 40, 42, 34]\n",
            "7회 로또 데이터 저장중...  [2, 9, 16, 25, 26, 40, 42]\n",
            "8회 로또 데이터 저장중...  [8, 19, 25, 34, 37, 39, 9]\n",
            "9회 로또 데이터 저장중...  [2, 4, 16, 17, 36, 39, 14]\n",
            "10회 로또 데이터 저장중...  [9, 25, 30, 33, 41, 44, 6]\n",
            "11회 로또 데이터 저장중...  [1, 7, 36, 37, 41, 42, 14]\n",
            "12회 로또 데이터 저장중...  [2, 11, 21, 25, 39, 45, 44]\n",
            "13회 로또 데이터 저장중...  [22, 23, 25, 37, 38, 42, 26]\n",
            "14회 로또 데이터 저장중...  [2, 6, 12, 31, 33, 40, 15]\n",
            "15회 로또 데이터 저장중...  [3, 4, 16, 30, 31, 37, 13]\n",
            "16회 로또 데이터 저장중...  [6, 7, 24, 37, 38, 40, 33]\n",
            "17회 로또 데이터 저장중...  [3, 4, 9, 17, 32, 37, 1]\n",
            "18회 로또 데이터 저장중...  [3, 12, 13, 19, 32, 35, 29]\n",
            "19회 로또 데이터 저장중...  [6, 30, 38, 39, 40, 43, 26]\n",
            "20회 로또 데이터 저장중...  [10, 14, 18, 20, 23, 30, 41]\n",
            "21회 로또 데이터 저장중...  [6, 12, 17, 18, 31, 32, 21]\n",
            "22회 로또 데이터 저장중...  [4, 5, 6, 8, 17, 39, 25]\n",
            "23회 로또 데이터 저장중...  [5, 13, 17, 18, 33, 42, 44]\n",
            "24회 로또 데이터 저장중...  [7, 8, 27, 29, 36, 43, 6]\n",
            "25회 로또 데이터 저장중...  [2, 4, 21, 26, 43, 44, 16]\n",
            "26회 로또 데이터 저장중...  [4, 5, 7, 18, 20, 25, 31]\n",
            "27회 로또 데이터 저장중...  [1, 20, 26, 28, 37, 43, 27]\n",
            "28회 로또 데이터 저장중...  [9, 18, 23, 25, 35, 37, 1]\n",
            "29회 로또 데이터 저장중...  [1, 5, 13, 34, 39, 40, 11]\n",
            "30회 로또 데이터 저장중...  [8, 17, 20, 35, 36, 44, 4]\n",
            "31회 로또 데이터 저장중...  [7, 9, 18, 23, 28, 35, 32]\n",
            "32회 로또 데이터 저장중...  [6, 14, 19, 25, 34, 44, 11]\n",
            "33회 로또 데이터 저장중...  [4, 7, 32, 33, 40, 41, 9]\n",
            "34회 로또 데이터 저장중...  [9, 26, 35, 37, 40, 42, 2]\n",
            "35회 로또 데이터 저장중...  [2, 3, 11, 26, 37, 43, 39]\n",
            "36회 로또 데이터 저장중...  [1, 10, 23, 26, 28, 40, 31]\n",
            "37회 로또 데이터 저장중...  [7, 27, 30, 33, 35, 37, 42]\n",
            "38회 로또 데이터 저장중...  [16, 17, 22, 30, 37, 43, 36]\n",
            "39회 로또 데이터 저장중...  [6, 7, 13, 15, 21, 43, 8]\n",
            "40회 로또 데이터 저장중...  [7, 13, 18, 19, 25, 26, 6]\n",
            "41회 로또 데이터 저장중...  [13, 20, 23, 35, 38, 43, 34]\n",
            "42회 로또 데이터 저장중...  [17, 18, 19, 21, 23, 32, 1]\n",
            "43회 로또 데이터 저장중...  [6, 31, 35, 38, 39, 44, 1]\n",
            "44회 로또 데이터 저장중...  [3, 11, 21, 30, 38, 45, 39]\n",
            "45회 로또 데이터 저장중...  [1, 10, 20, 27, 33, 35, 17]\n",
            "46회 로또 데이터 저장중...  [8, 13, 15, 23, 31, 38, 39]\n",
            "47회 로또 데이터 저장중...  [14, 17, 26, 31, 36, 45, 27]\n",
            "48회 로또 데이터 저장중...  [6, 10, 18, 26, 37, 38, 3]\n",
            "49회 로또 데이터 저장중...  [4, 7, 16, 19, 33, 40, 30]\n",
            "50회 로또 데이터 저장중...  [2, 10, 12, 15, 22, 44, 1]\n",
            "51회 로또 데이터 저장중...  [2, 3, 11, 16, 26, 44, 35]\n",
            "52회 로또 데이터 저장중...  [2, 4, 15, 16, 20, 29, 1]\n",
            "53회 로또 데이터 저장중...  [7, 8, 14, 32, 33, 39, 42]\n",
            "54회 로또 데이터 저장중...  [1, 8, 21, 27, 36, 39, 37]\n",
            "55회 로또 데이터 저장중...  [17, 21, 31, 37, 40, 44, 7]\n",
            "56회 로또 데이터 저장중...  [10, 14, 30, 31, 33, 37, 19]\n",
            "57회 로또 데이터 저장중...  [7, 10, 16, 25, 29, 44, 6]\n",
            "58회 로또 데이터 저장중...  [10, 24, 25, 33, 40, 44, 1]\n",
            "59회 로또 데이터 저장중...  [6, 29, 36, 39, 41, 45, 13]\n",
            "60회 로또 데이터 저장중...  [2, 8, 25, 36, 39, 42, 11]\n",
            "61회 로또 데이터 저장중...  [14, 15, 19, 30, 38, 43, 8]\n",
            "62회 로또 데이터 저장중...  [3, 8, 15, 27, 29, 35, 21]\n",
            "63회 로또 데이터 저장중...  [3, 20, 23, 36, 38, 40, 5]\n",
            "64회 로또 데이터 저장중...  [14, 15, 18, 21, 26, 36, 39]\n",
            "65회 로또 데이터 저장중...  [4, 25, 33, 36, 40, 43, 39]\n",
            "66회 로또 데이터 저장중...  [2, 3, 7, 17, 22, 24, 45]\n",
            "67회 로또 데이터 저장중...  [3, 7, 10, 15, 36, 38, 33]\n",
            "68회 로또 데이터 저장중...  [10, 12, 15, 16, 26, 39, 38]\n",
            "69회 로또 데이터 저장중...  [5, 8, 14, 15, 19, 39, 35]\n",
            "70회 로또 데이터 저장중...  [5, 19, 22, 25, 28, 43, 26]\n",
            "71회 로또 데이터 저장중...  [5, 9, 12, 16, 29, 41, 21]\n",
            "72회 로또 데이터 저장중...  [2, 4, 11, 17, 26, 27, 1]\n",
            "73회 로또 데이터 저장중...  [3, 12, 18, 32, 40, 43, 38]\n",
            "74회 로또 데이터 저장중...  [6, 15, 17, 18, 35, 40, 23]\n",
            "75회 로또 데이터 저장중...  [2, 5, 24, 32, 34, 44, 28]\n",
            "76회 로또 데이터 저장중...  [1, 3, 15, 22, 25, 37, 43]\n",
            "77회 로또 데이터 저장중...  [2, 18, 29, 32, 43, 44, 37]\n",
            "78회 로또 데이터 저장중...  [10, 13, 25, 29, 33, 35, 38]\n",
            "79회 로또 데이터 저장중...  [3, 12, 24, 27, 30, 32, 14]\n",
            "80회 로또 데이터 저장중...  [17, 18, 24, 25, 26, 30, 1]\n",
            "81회 로또 데이터 저장중...  [5, 7, 11, 13, 20, 33, 6]\n",
            "82회 로또 데이터 저장중...  [1, 2, 3, 14, 27, 42, 39]\n",
            "83회 로또 데이터 저장중...  [6, 10, 15, 17, 19, 34, 14]\n",
            "84회 로또 데이터 저장중...  [16, 23, 27, 34, 42, 45, 11]\n",
            "85회 로또 데이터 저장중...  [6, 8, 13, 23, 31, 36, 21]\n",
            "86회 로또 데이터 저장중...  [2, 12, 37, 39, 41, 45, 33]\n",
            "87회 로또 데이터 저장중...  [4, 12, 16, 23, 34, 43, 26]\n",
            "88회 로또 데이터 저장중...  [1, 17, 20, 24, 30, 41, 27]\n",
            "89회 로또 데이터 저장중...  [4, 26, 28, 29, 33, 40, 37]\n",
            "90회 로또 데이터 저장중...  [17, 20, 29, 35, 38, 44, 10]\n",
            "91회 로또 데이터 저장중...  [1, 21, 24, 26, 29, 42, 27]\n",
            "92회 로또 데이터 저장중...  [3, 14, 24, 33, 35, 36, 17]\n",
            "93회 로또 데이터 저장중...  [6, 22, 24, 36, 38, 44, 19]\n",
            "94회 로또 데이터 저장중...  [5, 32, 34, 40, 41, 45, 6]\n",
            "95회 로또 데이터 저장중...  [8, 17, 27, 31, 34, 43, 14]\n",
            "96회 로또 데이터 저장중...  [1, 3, 8, 21, 22, 31, 20]\n",
            "97회 로또 데이터 저장중...  [6, 7, 14, 15, 20, 36, 3]\n",
            "98회 로또 데이터 저장중...  [6, 9, 16, 23, 24, 32, 43]\n",
            "99회 로또 데이터 저장중...  [1, 3, 10, 27, 29, 37, 11]\n",
            "100회 로또 데이터 저장중...  [1, 7, 11, 23, 37, 42, 6]\n"
          ]
        }
      ]
    },
    {
      "cell_type": "markdown",
      "source": [
        "위 코드를 실행 중에 에러가 발생한다면 아래처럼 span tag를 모두 찾아 추가해야 한다."
      ],
      "metadata": {
        "id": "XOf-W0UZ9mzr"
      }
    },
    {
      "cell_type": "code",
      "source": [
        "n = 1\n",
        "url = requests.get(f\"https://search.naver.com/search.naver?where=nexearch&sm=top_hty&fbm=0&ie=utf8&query={n}%ED%9A%8C%EB%A1%9C%EB%98%90\")\n",
        "if url.status_code != 200:\n",
        "    print('get error... (code = {})'.format(url.status_code))\n",
        "html = BeautifulSoup(url.text)\n",
        "\n",
        "numbers = html.find('div', class_=\"win_ball\").find_all('span') # 모든 span tag를 찾는다\n",
        "box = []\n",
        "\n",
        "for i in numbers:\n",
        "  box.append(int(i.text))\n",
        "\n",
        "box"
      ],
      "metadata": {
        "colab": {
          "base_uri": "https://localhost:8080/"
        },
        "id": "oZMGP_2O5g-d",
        "outputId": "5434c16d-a20e-4cb5-b17c-02d626d8a23e"
      },
      "execution_count": 2,
      "outputs": [
        {
          "output_type": "execute_result",
          "data": {
            "text/plain": [
              "[10, 23, 29, 33, 37, 40, 16]"
            ]
          },
          "metadata": {},
          "execution_count": 2
        }
      ]
    },
    {
      "cell_type": "markdown",
      "source": [
        "### 데이터프레임화"
      ],
      "metadata": {
        "id": "UCMcafKp7q3X"
      }
    },
    {
      "cell_type": "code",
      "source": [
        "df = pd.DataFrame(total, columns = ['ball1', 'ball2', 'ball3', 'ball4', 'ball5', 'ball6','bonus'])\n",
        "df"
      ],
      "metadata": {
        "id": "0fa_uZeGEyJu",
        "colab": {
          "base_uri": "https://localhost:8080/",
          "height": 424
        },
        "outputId": "70af6772-0aa8-439a-ecb2-b9d691bed682"
      },
      "execution_count": 9,
      "outputs": [
        {
          "output_type": "execute_result",
          "data": {
            "text/plain": [
              "    ball1  ball2  ball3  ball4  ball5  ball6  bonus\n",
              "0      10     23     29     33     37     40     16\n",
              "1       9     13     21     25     32     42      2\n",
              "2      11     16     19     21     27     31     30\n",
              "3      14     27     30     31     40     42      2\n",
              "4      16     24     29     40     41     42      3\n",
              "..    ...    ...    ...    ...    ...    ...    ...\n",
              "95      1      3      8     21     22     31     20\n",
              "96      6      7     14     15     20     36      3\n",
              "97      6      9     16     23     24     32     43\n",
              "98      1      3     10     27     29     37     11\n",
              "99      1      7     11     23     37     42      6\n",
              "\n",
              "[100 rows x 7 columns]"
            ],
            "text/html": [
              "\n",
              "\n",
              "  <div id=\"df-7abd586c-6dc2-4e4e-87dd-fab9df7ef2d6\">\n",
              "    <div class=\"colab-df-container\">\n",
              "      <div>\n",
              "<style scoped>\n",
              "    .dataframe tbody tr th:only-of-type {\n",
              "        vertical-align: middle;\n",
              "    }\n",
              "\n",
              "    .dataframe tbody tr th {\n",
              "        vertical-align: top;\n",
              "    }\n",
              "\n",
              "    .dataframe thead th {\n",
              "        text-align: right;\n",
              "    }\n",
              "</style>\n",
              "<table border=\"1\" class=\"dataframe\">\n",
              "  <thead>\n",
              "    <tr style=\"text-align: right;\">\n",
              "      <th></th>\n",
              "      <th>ball1</th>\n",
              "      <th>ball2</th>\n",
              "      <th>ball3</th>\n",
              "      <th>ball4</th>\n",
              "      <th>ball5</th>\n",
              "      <th>ball6</th>\n",
              "      <th>bonus</th>\n",
              "    </tr>\n",
              "  </thead>\n",
              "  <tbody>\n",
              "    <tr>\n",
              "      <th>0</th>\n",
              "      <td>10</td>\n",
              "      <td>23</td>\n",
              "      <td>29</td>\n",
              "      <td>33</td>\n",
              "      <td>37</td>\n",
              "      <td>40</td>\n",
              "      <td>16</td>\n",
              "    </tr>\n",
              "    <tr>\n",
              "      <th>1</th>\n",
              "      <td>9</td>\n",
              "      <td>13</td>\n",
              "      <td>21</td>\n",
              "      <td>25</td>\n",
              "      <td>32</td>\n",
              "      <td>42</td>\n",
              "      <td>2</td>\n",
              "    </tr>\n",
              "    <tr>\n",
              "      <th>2</th>\n",
              "      <td>11</td>\n",
              "      <td>16</td>\n",
              "      <td>19</td>\n",
              "      <td>21</td>\n",
              "      <td>27</td>\n",
              "      <td>31</td>\n",
              "      <td>30</td>\n",
              "    </tr>\n",
              "    <tr>\n",
              "      <th>3</th>\n",
              "      <td>14</td>\n",
              "      <td>27</td>\n",
              "      <td>30</td>\n",
              "      <td>31</td>\n",
              "      <td>40</td>\n",
              "      <td>42</td>\n",
              "      <td>2</td>\n",
              "    </tr>\n",
              "    <tr>\n",
              "      <th>4</th>\n",
              "      <td>16</td>\n",
              "      <td>24</td>\n",
              "      <td>29</td>\n",
              "      <td>40</td>\n",
              "      <td>41</td>\n",
              "      <td>42</td>\n",
              "      <td>3</td>\n",
              "    </tr>\n",
              "    <tr>\n",
              "      <th>...</th>\n",
              "      <td>...</td>\n",
              "      <td>...</td>\n",
              "      <td>...</td>\n",
              "      <td>...</td>\n",
              "      <td>...</td>\n",
              "      <td>...</td>\n",
              "      <td>...</td>\n",
              "    </tr>\n",
              "    <tr>\n",
              "      <th>95</th>\n",
              "      <td>1</td>\n",
              "      <td>3</td>\n",
              "      <td>8</td>\n",
              "      <td>21</td>\n",
              "      <td>22</td>\n",
              "      <td>31</td>\n",
              "      <td>20</td>\n",
              "    </tr>\n",
              "    <tr>\n",
              "      <th>96</th>\n",
              "      <td>6</td>\n",
              "      <td>7</td>\n",
              "      <td>14</td>\n",
              "      <td>15</td>\n",
              "      <td>20</td>\n",
              "      <td>36</td>\n",
              "      <td>3</td>\n",
              "    </tr>\n",
              "    <tr>\n",
              "      <th>97</th>\n",
              "      <td>6</td>\n",
              "      <td>9</td>\n",
              "      <td>16</td>\n",
              "      <td>23</td>\n",
              "      <td>24</td>\n",
              "      <td>32</td>\n",
              "      <td>43</td>\n",
              "    </tr>\n",
              "    <tr>\n",
              "      <th>98</th>\n",
              "      <td>1</td>\n",
              "      <td>3</td>\n",
              "      <td>10</td>\n",
              "      <td>27</td>\n",
              "      <td>29</td>\n",
              "      <td>37</td>\n",
              "      <td>11</td>\n",
              "    </tr>\n",
              "    <tr>\n",
              "      <th>99</th>\n",
              "      <td>1</td>\n",
              "      <td>7</td>\n",
              "      <td>11</td>\n",
              "      <td>23</td>\n",
              "      <td>37</td>\n",
              "      <td>42</td>\n",
              "      <td>6</td>\n",
              "    </tr>\n",
              "  </tbody>\n",
              "</table>\n",
              "<p>100 rows × 7 columns</p>\n",
              "</div>\n",
              "      <button class=\"colab-df-convert\" onclick=\"convertToInteractive('df-7abd586c-6dc2-4e4e-87dd-fab9df7ef2d6')\"\n",
              "              title=\"Convert this dataframe to an interactive table.\"\n",
              "              style=\"display:none;\">\n",
              "\n",
              "  <svg xmlns=\"http://www.w3.org/2000/svg\" height=\"24px\"viewBox=\"0 0 24 24\"\n",
              "       width=\"24px\">\n",
              "    <path d=\"M0 0h24v24H0V0z\" fill=\"none\"/>\n",
              "    <path d=\"M18.56 5.44l.94 2.06.94-2.06 2.06-.94-2.06-.94-.94-2.06-.94 2.06-2.06.94zm-11 1L8.5 8.5l.94-2.06 2.06-.94-2.06-.94L8.5 2.5l-.94 2.06-2.06.94zm10 10l.94 2.06.94-2.06 2.06-.94-2.06-.94-.94-2.06-.94 2.06-2.06.94z\"/><path d=\"M17.41 7.96l-1.37-1.37c-.4-.4-.92-.59-1.43-.59-.52 0-1.04.2-1.43.59L10.3 9.45l-7.72 7.72c-.78.78-.78 2.05 0 2.83L4 21.41c.39.39.9.59 1.41.59.51 0 1.02-.2 1.41-.59l7.78-7.78 2.81-2.81c.8-.78.8-2.07 0-2.86zM5.41 20L4 18.59l7.72-7.72 1.47 1.35L5.41 20z\"/>\n",
              "  </svg>\n",
              "      </button>\n",
              "\n",
              "\n",
              "\n",
              "    <div id=\"df-209c863e-3119-4002-8fbc-9ee509df05a4\">\n",
              "      <button class=\"colab-df-quickchart\" onclick=\"quickchart('df-209c863e-3119-4002-8fbc-9ee509df05a4')\"\n",
              "              title=\"Suggest charts.\"\n",
              "              style=\"display:none;\">\n",
              "\n",
              "<svg xmlns=\"http://www.w3.org/2000/svg\" height=\"24px\"viewBox=\"0 0 24 24\"\n",
              "     width=\"24px\">\n",
              "    <g>\n",
              "        <path d=\"M19 3H5c-1.1 0-2 .9-2 2v14c0 1.1.9 2 2 2h14c1.1 0 2-.9 2-2V5c0-1.1-.9-2-2-2zM9 17H7v-7h2v7zm4 0h-2V7h2v10zm4 0h-2v-4h2v4z\"/>\n",
              "    </g>\n",
              "</svg>\n",
              "      </button>\n",
              "    </div>\n",
              "\n",
              "<style>\n",
              "  .colab-df-quickchart {\n",
              "    background-color: #E8F0FE;\n",
              "    border: none;\n",
              "    border-radius: 50%;\n",
              "    cursor: pointer;\n",
              "    display: none;\n",
              "    fill: #1967D2;\n",
              "    height: 32px;\n",
              "    padding: 0 0 0 0;\n",
              "    width: 32px;\n",
              "  }\n",
              "\n",
              "  .colab-df-quickchart:hover {\n",
              "    background-color: #E2EBFA;\n",
              "    box-shadow: 0px 1px 2px rgba(60, 64, 67, 0.3), 0px 1px 3px 1px rgba(60, 64, 67, 0.15);\n",
              "    fill: #174EA6;\n",
              "  }\n",
              "\n",
              "  [theme=dark] .colab-df-quickchart {\n",
              "    background-color: #3B4455;\n",
              "    fill: #D2E3FC;\n",
              "  }\n",
              "\n",
              "  [theme=dark] .colab-df-quickchart:hover {\n",
              "    background-color: #434B5C;\n",
              "    box-shadow: 0px 1px 3px 1px rgba(0, 0, 0, 0.15);\n",
              "    filter: drop-shadow(0px 1px 2px rgba(0, 0, 0, 0.3));\n",
              "    fill: #FFFFFF;\n",
              "  }\n",
              "</style>\n",
              "\n",
              "    <script>\n",
              "      async function quickchart(key) {\n",
              "        const containerElement = document.querySelector('#' + key);\n",
              "        const charts = await google.colab.kernel.invokeFunction(\n",
              "            'suggestCharts', [key], {});\n",
              "      }\n",
              "    </script>\n",
              "\n",
              "      <script>\n",
              "\n",
              "function displayQuickchartButton(domScope) {\n",
              "  let quickchartButtonEl =\n",
              "    domScope.querySelector('#df-209c863e-3119-4002-8fbc-9ee509df05a4 button.colab-df-quickchart');\n",
              "  quickchartButtonEl.style.display =\n",
              "    google.colab.kernel.accessAllowed ? 'block' : 'none';\n",
              "}\n",
              "\n",
              "        displayQuickchartButton(document);\n",
              "      </script>\n",
              "      <style>\n",
              "    .colab-df-container {\n",
              "      display:flex;\n",
              "      flex-wrap:wrap;\n",
              "      gap: 12px;\n",
              "    }\n",
              "\n",
              "    .colab-df-convert {\n",
              "      background-color: #E8F0FE;\n",
              "      border: none;\n",
              "      border-radius: 50%;\n",
              "      cursor: pointer;\n",
              "      display: none;\n",
              "      fill: #1967D2;\n",
              "      height: 32px;\n",
              "      padding: 0 0 0 0;\n",
              "      width: 32px;\n",
              "    }\n",
              "\n",
              "    .colab-df-convert:hover {\n",
              "      background-color: #E2EBFA;\n",
              "      box-shadow: 0px 1px 2px rgba(60, 64, 67, 0.3), 0px 1px 3px 1px rgba(60, 64, 67, 0.15);\n",
              "      fill: #174EA6;\n",
              "    }\n",
              "\n",
              "    [theme=dark] .colab-df-convert {\n",
              "      background-color: #3B4455;\n",
              "      fill: #D2E3FC;\n",
              "    }\n",
              "\n",
              "    [theme=dark] .colab-df-convert:hover {\n",
              "      background-color: #434B5C;\n",
              "      box-shadow: 0px 1px 3px 1px rgba(0, 0, 0, 0.15);\n",
              "      filter: drop-shadow(0px 1px 2px rgba(0, 0, 0, 0.3));\n",
              "      fill: #FFFFFF;\n",
              "    }\n",
              "  </style>\n",
              "\n",
              "      <script>\n",
              "        const buttonEl =\n",
              "          document.querySelector('#df-7abd586c-6dc2-4e4e-87dd-fab9df7ef2d6 button.colab-df-convert');\n",
              "        buttonEl.style.display =\n",
              "          google.colab.kernel.accessAllowed ? 'block' : 'none';\n",
              "\n",
              "        async function convertToInteractive(key) {\n",
              "          const element = document.querySelector('#df-7abd586c-6dc2-4e4e-87dd-fab9df7ef2d6');\n",
              "          const dataTable =\n",
              "            await google.colab.kernel.invokeFunction('convertToInteractive',\n",
              "                                                     [key], {});\n",
              "          if (!dataTable) return;\n",
              "\n",
              "          const docLinkHtml = 'Like what you see? Visit the ' +\n",
              "            '<a target=\"_blank\" href=https://colab.research.google.com/notebooks/data_table.ipynb>data table notebook</a>'\n",
              "            + ' to learn more about interactive tables.';\n",
              "          element.innerHTML = '';\n",
              "          dataTable['output_type'] = 'display_data';\n",
              "          await google.colab.output.renderOutput(dataTable, element);\n",
              "          const docLink = document.createElement('div');\n",
              "          docLink.innerHTML = docLinkHtml;\n",
              "          element.appendChild(docLink);\n",
              "        }\n",
              "      </script>\n",
              "    </div>\n",
              "  </div>\n"
            ]
          },
          "metadata": {},
          "execution_count": 9
        }
      ]
    },
    {
      "cell_type": "code",
      "source": [
        "df.to_excel('lotto.xlsx')"
      ],
      "metadata": {
        "id": "XKkoUYho8Yhm"
      },
      "execution_count": 10,
      "outputs": []
    },
    {
      "cell_type": "code",
      "source": [],
      "metadata": {
        "id": "Rg27KYVS8ppY"
      },
      "execution_count": null,
      "outputs": []
    }
  ]
}