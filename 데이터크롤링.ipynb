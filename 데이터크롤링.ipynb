{
  "nbformat": 4,
  "nbformat_minor": 0,
  "metadata": {
    "colab": {
      "provenance": [],
      "authorship_tag": "ABX9TyOp4Y/z/dEufxM2cf4E/2kj"
    },
    "kernelspec": {
      "name": "python3",
      "display_name": "Python 3"
    },
    "language_info": {
      "name": "python"
    }
  },
  "cells": [
    {
      "cell_type": "markdown",
      "source": [
        "# 데이터 크롤링"
      ],
      "metadata": {
        "id": "pKqRmrjplHan"
      }
    },
    {
      "cell_type": "markdown",
      "source": [
        "웹 페이지는 기본 적으로 HTML 문서로 구성되어 있다.\n",
        "\n",
        "이외에 javascript, css도 사용되나 데이터 크롤링에서는 데이터의 내용을 다루는 것으르로 여기서는 HTML 문서를 기본으로 살펴본다.\n",
        "\n",
        "우선 아래와 같은 라이브러리가 필요하다"
      ],
      "metadata": {
        "id": "o765lCJElJ6S"
      }
    },
    {
      "cell_type": "code",
      "execution_count": 2,
      "metadata": {
        "id": "YDICxSQAlDg0"
      },
      "outputs": [],
      "source": [
        "from bs4 import BeautifulSoup # 파이썬으로 HTML을 다루기 위한 라이브러리\n",
        "import requests # 요청을 위한 라이브러리\n",
        "import time # 시간을 조절하기 위한 라이브러리"
      ]
    },
    {
      "cell_type": "markdown",
      "source": [
        "(주의) 항성 메인 화면에서 무언가를 검색한 후 해당 페이지의 URL을 가져오기\n",
        "\n",
        "https://search.naver.com/search.naver?where=nexearch&sm=top_hty&fbm=0&ie=utf8&query=%EB%A1%9C%EB%98%90\n",
        "\n",
        "로또 페이지를 가져온 URL"
      ],
      "metadata": {
        "id": "5XwxY4Igm6mY"
      }
    },
    {
      "cell_type": "code",
      "source": [
        "url = 'https://search.naver.com/search.naver?where=nexearch&sm=top_hty&fbm=0&ie=utf8&query=%EB%A1%9C%EB%98%90'\n",
        "res = requests.get(url)\n",
        "res"
      ],
      "metadata": {
        "colab": {
          "base_uri": "https://localhost:8080/"
        },
        "id": "fcuTK8zEltCV",
        "outputId": "817290ce-1154-474c-9bb5-06365f5911cd"
      },
      "execution_count": 5,
      "outputs": [
        {
          "output_type": "execute_result",
          "data": {
            "text/plain": [
              "<Response [200]>"
            ]
          },
          "metadata": {},
          "execution_count": 5
        }
      ]
    },
    {
      "cell_type": "markdown",
      "source": [
        "웹페이지를 requests를 통해 가져왔다. 'Respense [200]'이 출력되면 정상적으로 작동한 것"
      ],
      "metadata": {
        "id": "XtOaxlAvnqGO"
      }
    },
    {
      "cell_type": "code",
      "source": [
        "res.text[0:3000] # 앞에서 3000자만 출력하였다."
      ],
      "metadata": {
        "colab": {
          "base_uri": "https://localhost:8080/",
          "height": 226
        },
        "id": "IiAE1mHinSk6",
        "outputId": "acdb967e-bc4d-4728-c5cb-88a961894ed7"
      },
      "execution_count": 10,
      "outputs": [
        {
          "output_type": "execute_result",
          "data": {
            "text/plain": [
              "'<!doctype html> <html lang=\"ko\"><head> <meta charset=\"utf-8\"> <meta name=\"referrer\" content=\"always\">  <meta name=\"format-detection\" content=\"telephone=no,address=no,email=no\"> <meta name=\"viewport\" content=\"width=device-width,initial-scale=1.0,maximum-scale=2.0\"> <meta property=\"og:title\" content=\"로또 : 네이버 통합검색\"/> <meta property=\"og:image\" content=\"https://ssl.pstatic.net/sstatic/search/common/og_v3.png\"> <meta property=\"og:description\" content=\"\\'로또\\'의 네이버 통합검색 결과입니다.\"> <meta name=\"description\" lang=\"ko\" content=\"\\'로또\\'의 네이버 통합검색 결과입니다.\"> <title>로또 : 네이버 통합검색</title> <link rel=\"shortcut icon\" href=\"https://ssl.pstatic.net/sstatic/search/favicon/favicon_191118_pc.ico\">  <link rel=\"search\" type=\"application/opensearchdescription+xml\" href=\"https://ssl.pstatic.net/sstatic/search/opensearch-description.https.xml\" title=\"Naver\" /><script> if (top.frames.length!=0 || window!=top) window.open(location, \"_top\"); </script><link rel=\"stylesheet\" type=\"text/css\" href=\"https://ssl.pstatic.net/sstatic/search/pc/css/search1_230720.css\"> <link rel=\"stylesheet\" type=\"text/css\" href=\"https://ssl.pstatic.net/sstatic/search/pc/css/search2_230713a.css\"> <link rel=\"stylesheet\" type=\"text/css\" href=\"https://ssl.pstatic.net/sstatic/search/pc/css/sp_autocomplete_220526.css\"><script> naver = window.naver || {}; naver.search = naver.search || {}; naver.search.abt_param = \"\"; </script><script> naver = window.naver || {}; naver.search = naver.search || {}; naver.search.error = (function () { var errorList = Array() ; return { add : function (s) { errorList.push(s) ; }, clear : function () { delete errorList ; }, get : function (s) { return errorList ; }, getString : function (d) { if (typeof d === \\'undefined\\') d = \\'|\\' ; return errorList.join(d) ; } } })(); function nx_add_event_handler (event, func) { $Fn(func).attach(document, event) ; } function bt(id, after) { document.getElementById(id).src = after; } function document_write (s) { document.write(s) ; } </script><script> var _nx_js_load = (function () { var scrs = {} ; return function (script, callback) { scrs[script] = {} ; scrs[script].domscript = document.createElement(\\'script\\'); scrs[script].domscript.src = script ; if (callback) scrs[script].callback = (callback instanceof Array) ? callback : [callback]; scrs[script].domscript.onloadDone = false; scrs[script].domscript.onload = function() { scrs[script].domscript.onloadDone = true; if (scrs[script].callback) { for (var i = 0; i < scrs[script].callback.length; i++) { scrs[script].callback[i]() ; } } scrs[script].domscript.onload = scrs[script].domscript.onreadystatechange = null; } ; scrs[script].domscript.onreadystatechange = function() { if ( (\"loaded\" === scrs[script].domscript.readyState || \"complete\" === scrs[script].domscript.readyState) && !scrs[script].domscript.onloadDone ) { scrs[script].domscript.onload(); } } ; document.getElementsByTagName(\\'head\\')[0].appendChild(scrs[script].domscript); }; })() ; var nx_js_defer_load = (function() { var info = {} ; return '"
            ],
            "application/vnd.google.colaboratory.intrinsic+json": {
              "type": "string"
            }
          },
          "metadata": {},
          "execution_count": 10
        }
      ]
    },
    {
      "cell_type": "markdown",
      "source": [
        "위와 같이 text를 불려오면 웹 페이지의 html을 가져온다. 하지만 출력결과를 잘 보면 진짜 html 문서가 아닌 양쪽에 '가 있는 text 문서이다. 이를 진짜 html 문서로 변환해보자"
      ],
      "metadata": {
        "id": "K3C_Jsv2oWqU"
      }
    },
    {
      "cell_type": "code",
      "source": [
        "html = BeautifulSoup(res.text)\n",
        "# html # html을 출력해 보면 문자열이 아닌 html 형식대로 출력된다"
      ],
      "metadata": {
        "id": "PCHJ3FrioAxc"
      },
      "execution_count": 14,
      "outputs": []
    },
    {
      "cell_type": "code",
      "source": [],
      "metadata": {
        "id": "N-Laqu4-o_vW"
      },
      "execution_count": null,
      "outputs": []
    }
  ]
}